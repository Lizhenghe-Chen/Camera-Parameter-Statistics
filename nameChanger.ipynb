{
 "cells": [
  {
   "cell_type": "markdown",
   "metadata": {},
   "source": [
    "# Warning： This is not the script for the analysis!!! It is used to rename the files!!!\n",
    "# 警告：这不是分析的脚本！！！是用来改名字的！！！"
   ]
  },
  {
   "cell_type": "code",
   "execution_count": 1,
   "metadata": {},
   "outputs": [],
   "source": [
    "import pandas as pd  # pip install pyarrow may be suggested\n",
    "import matplotlib.pyplot as plt\n",
    "import os\n",
    "from PIL import Image  # https://pillow.readthedocs.io/en/stable/releasenotes/3.1.0.html\n",
    "import sys\n",
    "\n",
    "file_path = \"K:\\BaiduSyncdisk\\Photos\"\n",
    "file_type_a = \".jpg\", \".jpeg\", \".png\"\n",
    "file_type_A = tuple(map(str.upper, file_type_a))\n",
    "\n",
    "if not os.path.exists(file_path):\n",
    "    print(\"目录不存在\")\n",
    "    sys.exit()\n",
    "\n",
    "print(file_type_a, file_type_A)"
   ]
  },
  {
   "cell_type": "code",
   "execution_count": 2,
   "metadata": {},
   "outputs": [],
   "source": [
    "# define a list to store the image's file pathes, including the subfolders\n",
    "jpg_path_list = []\n",
    "# set\n",
    "error_path_list = set()\n",
    "TOTAL_SIZE = 0\n",
    "for root, dirs, files in os.walk(file_path):\n",
    "    for file in files:\n",
    "        if file.endswith(file_type_A) or file.endswith(file_type_a):\n",
    "            jpg_path_list.append(os.path.join(root, file))\n",
    "# print the size of the list\n",
    "TOTAL_SIZE = len(jpg_path_list)\n",
    "print(\"The number of the image file is: \", TOTAL_SIZE)\n",
    "print(jpg_path_list[0:5])"
   ]
  },
  {
   "cell_type": "code",
   "execution_count": 3,
   "metadata": {},
   "outputs": [],
   "source": [
    "# 重命名文件，移除每一个文件名'IMG_' 之前的部分\n",
    "for i in range(TOTAL_SIZE):\n",
    "    try:\n",
    "        new_name = \"IMG_\" + jpg_path_list[i].split(\"IMG_\")[-1]\n",
    "        print(new_name)\n",
    "        os.rename(jpg_path_list[i], os.path.join(file_path, new_name))\n",
    "    except Exception as e:\n",
    "        error_path_list.add(jpg_path_list[i])\n",
    "        print(\"Error: \", jpg_path_list[i])\n",
    "        print(e)"
   ]
  }
 ],
 "metadata": {
  "kernelspec": {
   "display_name": "Python 3",
   "language": "python",
   "name": "python3"
  },
  "language_info": {
   "codemirror_mode": {
    "name": "ipython",
    "version": 3
   },
   "file_extension": ".py",
   "mimetype": "text/x-python",
   "name": "python",
   "nbconvert_exporter": "python",
   "pygments_lexer": "ipython3",
   "version": "3.11.9"
  }
 },
 "nbformat": 4,
 "nbformat_minor": 2
}
